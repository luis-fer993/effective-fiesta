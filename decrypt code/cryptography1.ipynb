{
 "cells": [
  {
   "cell_type": "code",
   "execution_count": 154,
   "metadata": {},
   "outputs": [
    {
     "name": "stdout",
     "output_type": "stream",
     "text": [
      "uifsf%bsf%b%gfx%xbzt%up%dpowfsu%b%mjtu%up%b%tusjoh%jo%qzuipoP%pof%xbz%jt%up%vtf%uif%#kpjoJK#%nfuipeP%uif%#kpjoJK#%nfuipe%ublft%b%tfrvfodf%pg%tusjoht%bt%jut%bshvnfou%boe%sfuvsot%b%tjohmf%tusjoh%uibu%jt%uif%dpodbufobujpo%pg%uif%tusjoht%jo%uif%tfrvfodfP%gps%fybnqmfN%uif%gpmmpxjoh%dpef%xjmm%dpowfsu%uif%mjtu%#|DbDN%DcDN%DdD~#%up%uif%tusjoh%#DbcdD#\\\n",
      "THERE ARE A FEW WAYS TO CONVERT A LIST TO A STRING IN PYTHON. ONE WAY IS TO USE THE `JOIN()` METHOD. THE `JOIN()` METHOD TAKES A SEQUENCE OF STRINGS AS ITS ARGUMENT AND RETURNS A SINGLE STRING THAT IS THE CONCATENATION OF THE STRINGS IN THE SEQUENCE. FOR EXAMPLE, THE FOLLOWING CODE WILL CONVERT THE LIST `[\"A\", \"B\", \"C\"]` TO THE STRING `\"ABC\"`:\n"
     ]
    }
   ],
   "source": [
    "# cesar Cipher program \n",
    "\n",
    "import pyperclip\n",
    "#http://invpy.com/pyperclip.py\n",
    "\n",
    "option=int(input('''\n",
    "    Ingrese option:\n",
    "      1. Enc\n",
    "      2. Dec\\n\n",
    "      '''))\n",
    "if option==1: messageEncrypt =str(input ('ingrese datos (enc) [+] -> ')).upper()\n",
    "else : messageDecrypt =str(input ('ingrese datos (dec) [+] -> '))\n",
    "\n",
    "translated=''\n",
    "LETTERS='!\"#$%&\\'()*+,-./0123456789:;<=>?@ABCDEFGHIJKLMNOPQRSTUVWXYZ[\\\\]^_`a bcdefghijklmnopqrstuvwxyz{|}~'\n",
    "key = int(input('Ingrese valor llave [+] -> max %s'%len(LETTERS)))\n",
    "\n",
    "if option==1 : mess=messageEncrypt\n",
    "elif option==2 : mess=messageDecrypt  \n",
    "    \n",
    "for char in mess:\n",
    "    if char in LETTERS:\n",
    "        num = LETTERS.find(char) #get the index of letter\n",
    "        if option==1 : num+=key\n",
    "        elif option==2 :  num-=key  \n",
    "        # LETTERS or less than 0\n",
    "        if num >= len(LETTERS): num = num - len(LETTERS)\n",
    "        elif num < 0: num = num + len(LETTERS)\n",
    "        translated +=LETTERS[num] # add encrypted/decrypted number's symbol at the end of translated\n",
    "    else:\n",
    "        translated+=char\n",
    "        \n",
    "print(mess,translated,sep='\\n')\n",
    "pyperclip.copy(translated)\n"
   ]
  },
  {
   "cell_type": "code",
   "execution_count": null,
   "metadata": {},
   "outputs": [],
   "source": [
    "#Desencriptar mensage usando Fuerza bruta \n",
    "\n",
    "#   mensaje ->    j\\njexZedx`d]ehcXZ`edxckoxlXb`eiXxHIPONLKPOL\n",
    "\n",
    "\n",
    "data=str(input('Ingrese datos -> '))\n",
    "\n",
    "def bruteForce(data:str):\n",
    "    LETTERS='!\"#$%&\\'()*+,-./0123456789:;<=>?@ABCDEFGHIJKLMNOPQRSTUVWXYZ[\\\\]^_`a bcdefghijklmnopqrstuvwxyz{|}~'\n",
    "    lista= len(LETTERS)\n",
    "    for posibility in range(lista):\n",
    "        translated=''\n",
    "        for position in data:\n",
    "            if position in LETTERS:\n",
    "                num = LETTERS.find(position) #get the index of letter\n",
    "                num-=posibility  \n",
    "                # LETTERS or less than 0\n",
    "                if num < 0: num = num + len(LETTERS)\n",
    "                translated +=LETTERS[num] # add encrypted/decrypted number's symbol at the end of translated\n",
    "            else:\n",
    "                translated+=position\n",
    "        print('Clave %s - Valor: %s'%(posibility, translated),end=' \\n\\n')\n",
    "        \n",
    "bruteForce(data)\n",
    "\n"
   ]
  },
  {
   "cell_type": "code",
   "execution_count": 158,
   "metadata": {},
   "outputs": [
    {
     "name": "stdout",
     "output_type": "stream",
     "text": [
      "cesonamcgmeeo mm ess |\n"
     ]
    }
   ],
   "source": [
    "#transposition\n",
    "\n",
    "def main():\n",
    "    message='commom sence message'\n",
    "    key=8\n",
    "    text = encryptMessage(message, key)\n",
    "    print(text,'|')\n",
    "    \n",
    "def encryptMessage(message,key):\n",
    "    ciphertext=['']*key\n",
    "    # Loop through each column in ciphertext.\n",
    "    for col in range(key):\n",
    "        pointer = col\n",
    "        \n",
    "        while pointer< len(message):\n",
    "            ciphertext[col]+=message[pointer]\n",
    "            \n",
    "            pointer+=key\n",
    "    return ''.join(ciphertext)\n",
    "\n",
    "if __name__=='__main__':\n",
    "    main()\n",
    "    \n",
    "    "
   ]
  }
 ],
 "metadata": {
  "kernelspec": {
   "display_name": ".venv",
   "language": "python",
   "name": "python3"
  },
  "language_info": {
   "codemirror_mode": {
    "name": "ipython",
    "version": 3
   },
   "file_extension": ".py",
   "mimetype": "text/x-python",
   "name": "python",
   "nbconvert_exporter": "python",
   "pygments_lexer": "ipython3",
   "version": "3.10.9"
  },
  "orig_nbformat": 4
 },
 "nbformat": 4,
 "nbformat_minor": 2
}
