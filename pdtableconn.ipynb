{
 "cells": [
  {
   "cell_type": "markdown",
   "metadata": {},
   "source": [
    "Pasos para optimizacion de procesos\n",
    "\n",
    "- Acceso a datos y manipulacion de los datos \n",
    "  - Lectura de archivo original \n",
    "  - Busqueda de datos segun criterios en filas y columnas \n",
    "  - Filtro con las columnas necesitadas \n",
    "- Creacion de rango de consulta en columnas \n",
    "- Lectura de numeros mediante el uso de OCR y reconocimiento de imagenes\n",
    "  - Mediante el uso de librerias de reconocimiento de imagenes se extrae el texto \n",
    "  - Se crea una seleccion especifica en el are especificada de la imagen \n",
    "  - se extrae el texto o se digita manualmente  \n",
    "- Consulta a base de datos con los datos obtenidos \n",
    "  - Se establece una conexxion a base de datos con los parametros establecidos\n",
    "  - Utillizando la informacion obtenida se realiza la consulta y se obtienen los datos devueltos \n",
    "- Creacion de DataFrame de acuerdo a las condiciones establecidas\n",
    "  - se realiza un modelo que reune:\n",
    "    - la informacion original, ubicada en el orden respectivo de columnas\n",
    "    - se establece la informacion en las coluymnas requeridas de acuerdo a los datos obtenidos en la base de datos \n",
    "    - se pone la debida informacion de acuerdo a las condiciones dadas."
   ]
  },
  {
   "cell_type": "code",
   "execution_count": 87,
   "metadata": {},
   "outputs": [],
   "source": [
    "! cd .."
   ]
  },
  {
   "cell_type": "code",
   "execution_count": 94,
   "metadata": {},
   "outputs": [
    {
     "data": {
      "text/html": [
       "<div>\n",
       "<style scoped>\n",
       "    .dataframe tbody tr th:only-of-type {\n",
       "        vertical-align: middle;\n",
       "    }\n",
       "\n",
       "    .dataframe tbody tr th {\n",
       "        vertical-align: top;\n",
       "    }\n",
       "\n",
       "    .dataframe thead th {\n",
       "        text-align: right;\n",
       "    }\n",
       "</style>\n",
       "<table border=\"1\" class=\"dataframe\">\n",
       "  <thead>\n",
       "    <tr style=\"text-align: right;\">\n",
       "      <th></th>\n",
       "      <th>FotoStickerFemsa</th>\n",
       "      <th>CodifoclienteKof_Mex</th>\n",
       "      <th>Tiene match?</th>\n",
       "    </tr>\n",
       "  </thead>\n",
       "  <tbody>\n",
       "    <tr>\n",
       "      <th>0</th>\n",
       "      <td>https://shortextraction.grupomeiko.io/20230630...</td>\n",
       "      <td>No aplica</td>\n",
       "      <td>No aplica</td>\n",
       "    </tr>\n",
       "    <tr>\n",
       "      <th>1</th>\n",
       "      <td>https://shortextraction.grupomeiko.io/20230630...</td>\n",
       "      <td>No aplica</td>\n",
       "      <td>No aplica</td>\n",
       "    </tr>\n",
       "    <tr>\n",
       "      <th>2</th>\n",
       "      <td>https://shortextraction.grupomeiko.io/20230630...</td>\n",
       "      <td>No aplica</td>\n",
       "      <td>No aplica</td>\n",
       "    </tr>\n",
       "    <tr>\n",
       "      <th>3</th>\n",
       "      <td>https://shortextraction.grupomeiko.io/20230630...</td>\n",
       "      <td>No aplica</td>\n",
       "      <td>No aplica</td>\n",
       "    </tr>\n",
       "    <tr>\n",
       "      <th>4</th>\n",
       "      <td>https://shortextraction.grupomeiko.io/20230630...</td>\n",
       "      <td>105311121</td>\n",
       "      <td>SI , idestablecimiento Diferente</td>\n",
       "    </tr>\n",
       "  </tbody>\n",
       "</table>\n",
       "</div>"
      ],
      "text/plain": [
       "                                    FotoStickerFemsa CodifoclienteKof_Mex  \\\n",
       "0  https://shortextraction.grupomeiko.io/20230630...            No aplica   \n",
       "1  https://shortextraction.grupomeiko.io/20230630...            No aplica   \n",
       "2  https://shortextraction.grupomeiko.io/20230630...            No aplica   \n",
       "3  https://shortextraction.grupomeiko.io/20230630...            No aplica   \n",
       "4  https://shortextraction.grupomeiko.io/20230630...            105311121   \n",
       "\n",
       "                       Tiene match?  \n",
       "0                         No aplica  \n",
       "1                         No aplica  \n",
       "2                         No aplica  \n",
       "3                         No aplica  \n",
       "4  SI , idestablecimiento Diferente  "
      ]
     },
     "execution_count": 94,
     "metadata": {},
     "output_type": "execute_result"
    }
   ],
   "source": [
    "import numpy as np\n",
    "import pandas as pd\n",
    "import requests\n",
    "import os\n",
    "\n",
    "csvFile = pd.read_csv('mt1.csv')\n",
    "\n",
    "csvFile[['FotoStickerFemsa','CodifoclienteKof_Mex','Tiene match?']].head()"
   ]
  },
  {
   "cell_type": "code",
   "execution_count": 95,
   "metadata": {},
   "outputs": [
    {
     "name": "stdout",
     "output_type": "stream",
     "text": [
      "<class 'pandas.core.frame.DataFrame'>\n",
      "RangeIndex: 6183 entries, 0 to 6182\n",
      "Data columns (total 12 columns):\n",
      " #   Column                       Non-Null Count  Dtype  \n",
      "---  ------                       --------------  -----  \n",
      " 0   Place_id                     6183 non-null   object \n",
      " 1   Ciclo                        6183 non-null   object \n",
      " 2   idRegistroEncuesta           6183 non-null   int64  \n",
      " 3   idEstablecimiento            6183 non-null   int64  \n",
      " 4   NombreEstablecimiento        6183 non-null   object \n",
      " 5   Direccion                    6183 non-null   object \n",
      " 6   FotoStickerFemsa             6183 non-null   object \n",
      " 7   Imagen                       0 non-null      float64\n",
      " 8   CodifoclienteKof_Mex         1029 non-null   object \n",
      " 9   Tiene match?                 1052 non-null   object \n",
      " 10  IdEstablecimeinto Matcheado  829 non-null    object \n",
      " 11  Unnamed: 11                  996 non-null    object \n",
      "dtypes: float64(1), int64(2), object(9)\n",
      "memory usage: 579.8+ KB\n"
     ]
    }
   ],
   "source": [
    "\n",
    "csvFile.info()# show info type data frame"
   ]
  },
  {
   "cell_type": "code",
   "execution_count": 120,
   "metadata": {},
   "outputs": [
    {
     "data": {
      "text/plain": [
       "'https://shortextraction.grupomeiko.io/20230626/626_3596995_FotoStickerFemsa.jpg'"
      ]
     },
     "execution_count": 120,
     "metadata": {},
     "output_type": "execute_result"
    }
   ],
   "source": [
    "data1=csvFile.loc[csvFile['CodifoclienteKof_Mex'].notna()==False,['idEstablecimiento','FotoStickerFemsa','CodifoclienteKof_Mex']].head(5) #obtenenemos las filas que no tienen Codigo Aun\n",
    "\n",
    "data1.values[0][1]\n",
    "#csvFile[['FotoStickerFemsa']].head(5) #obtenenemos las filas que no tienen Codigo Aun"
   ]
  },
  {
   "cell_type": "code",
   "execution_count": 121,
   "metadata": {},
   "outputs": [
    {
     "name": "stdout",
     "output_type": "stream",
     "text": [
      "Download complete!\n"
     ]
    }
   ],
   "source": [
    "\n",
    "req = requests.get(data1.values[0][1])\n",
    "if req.status_code==200:\n",
    "    code=data1.values[0][0]\n",
    "    nameImage=f'Img_{code}.jpg'\n",
    "    path=f'tmp/{nameImage}'\n",
    "    with open (path,'wb') as file:\n",
    "        file.write(req.content)\n",
    "    print('Download complete!')\n",
    "else: print(f'Error Status Code {req.status_code}')"
   ]
  }
 ],
 "metadata": {
  "kernelspec": {
   "display_name": ".venv",
   "language": "python",
   "name": "python3"
  },
  "language_info": {
   "codemirror_mode": {
    "name": "ipython",
    "version": 3
   },
   "file_extension": ".py",
   "mimetype": "text/x-python",
   "name": "python",
   "nbconvert_exporter": "python",
   "pygments_lexer": "ipython3",
   "version": "3.10.9"
  },
  "orig_nbformat": 4
 },
 "nbformat": 4,
 "nbformat_minor": 2
}
